{
 "cells": [
  {
   "cell_type": "code",
   "execution_count": null,
   "id": "e731a135",
   "metadata": {},
   "outputs": [],
   "source": [
    "! pip install azure-search-documents==11.6.0b12 --quiet\n",
    "! pip install azure-identity --quiet\n",
    "! pip install python-dotenv --quiet\n",
    "! pip install pandas --quiet"
   ]
  },
  {
   "cell_type": "code",
   "execution_count": 2,
   "id": "91e5d917",
   "metadata": {},
   "outputs": [],
   "source": [
    "import os\n",
    "import dotenv\n",
    "dotenv.load_dotenv()\n",
    "search_endpoint = os.getenv(\"SEARCH_ENDPOINT\")\n",
    "admin_key= os.getenv(\"ADMIN_KEY\")\n",
    "index_name = os.getenv(\"INDEX_NAME\")"
   ]
  },
  {
   "cell_type": "code",
   "execution_count": 3,
   "id": "eab35b0c",
   "metadata": {},
   "outputs": [],
   "source": [
    "\n",
    "from azure.search.documents.indexes import SearchIndexClient\n",
    "from azure.search.documents.indexes.models import (\n",
    "    SearchIndex, \n",
    "    SimpleField, \n",
    "    SearchableField,\n",
    "    ScoringProfile,\n",
    "    TextWeights\n",
    ")\n",
    "from azure.search.documents import SearchClient\n",
    "from azure.core.credentials import AzureKeyCredential\n",
    "import pandas as pd\n"
   ]
  },
  {
   "cell_type": "code",
   "execution_count": 4,
   "id": "78f21c8c",
   "metadata": {},
   "outputs": [],
   "source": [
    "\n",
    "df = pd.read_csv(\"azure_ai_search_sample_data.csv\")\n",
    "df = df.fillna(\"\")"
   ]
  },
  {
   "cell_type": "code",
   "execution_count": 5,
   "id": "6b2e0907",
   "metadata": {},
   "outputs": [
    {
     "name": "stdout",
     "output_type": "stream",
     "text": [
      "Index created with scoring profile 'nameBoost' (includes date boosting)\n"
     ]
    }
   ],
   "source": [
    "from azure.search.documents.indexes.models import (\n",
    "    ScoringProfile, \n",
    "    TextWeights\n",
    ")\n",
    "\n",
    "index_client = SearchIndexClient(search_endpoint, AzureKeyCredential(admin_key))\n",
    "\n",
    "fields = [\n",
    "    SimpleField(name=\"referenceNumber\", type=\"Edm.String\", key=True),\n",
    "    SearchableField(name=\"firstName\", type=\"Edm.String\", sortable=True, filterable=True),\n",
    "    SearchableField(name=\"lastName\", type=\"Edm.String\", sortable=True, filterable=True),\n",
    "    SearchableField(name=\"dateOfBirth\", type=\"Edm.String\", sortable=True, filterable=True),\n",
    "    SearchableField(name=\"companyName\", type=\"Edm.String\", sortable=True, filterable=True),\n",
    "    SearchableField(name=\"suffix\", type=\"Edm.String\", sortable=True, filterable=True),\n",
    "    SearchableField(name=\"jointAccountNames\", type=\"Edm.String\", sortable=True, filterable=True),\n",
    "]\n",
    "\n",
    "# Create a scoring profile to boost name and date matches\n",
    "scoring_profiles = [\n",
    "    ScoringProfile(\n",
    "        name=\"nameBoost\",\n",
    "        text_weights=TextWeights(\n",
    "            weights={\n",
    "                \"firstName\": 3.0,  # Boost firstName matches 3x\n",
    "                \"lastName\": 3.0,   # Boost lastName matches 3x\n",
    "                \"dateOfBirth\": 1.5,  # Boost date matches 1.5x\n",
    "                \"companyName\": 2.0,  # Boost company matches 2x\n",
    "                \"jointAccountNames\": 2.0  # Boost joint account matches 2x\n",
    "            }\n",
    "        )\n",
    "    )\n",
    "]\n",
    "\n",
    "index = SearchIndex(\n",
    "    name=index_name, \n",
    "    fields=fields,\n",
    "    scoring_profiles=scoring_profiles,\n",
    "    default_scoring_profile=\"nameBoost\"  # Apply by default\n",
    ")\n",
    "\n",
    "# Delete the index if it exists (for demo repeatability)\n",
    "try:\n",
    "    index_client.delete_index(index_name)\n",
    "except Exception:\n",
    "    pass\n",
    "\n",
    "index_client.create_index(index)\n",
    "print(\"Index created with scoring profile 'nameBoost' (includes date boosting)\")\n"
   ]
  },
  {
   "cell_type": "code",
   "execution_count": 6,
   "id": "43e05838",
   "metadata": {},
   "outputs": [
    {
     "name": "stdout",
     "output_type": "stream",
     "text": [
      "Uploaded batch 1: [<azure.search.documents._generated.models._models_py3.IndexingResult object at 0x0000028143DF2240>, <azure.search.documents._generated.models._models_py3.IndexingResult object at 0x0000028143DF22A0>, <azure.search.documents._generated.models._models_py3.IndexingResult object at 0x0000028143DF2270>, <azure.search.documents._generated.models._models_py3.IndexingResult object at 0x0000028143DF22D0>, <azure.search.documents._generated.models._models_py3.IndexingResult object at 0x0000028143DF2300>, <azure.search.documents._generated.models._models_py3.IndexingResult object at 0x0000028143DF2330>, <azure.search.documents._generated.models._models_py3.IndexingResult object at 0x0000028143DF2360>, <azure.search.documents._generated.models._models_py3.IndexingResult object at 0x0000028143DF2390>, <azure.search.documents._generated.models._models_py3.IndexingResult object at 0x0000028143DF23C0>, <azure.search.documents._generated.models._models_py3.IndexingResult object at 0x0000028143DF23F0>, <azure.search.documents._generated.models._models_py3.IndexingResult object at 0x0000028143DF2420>, <azure.search.documents._generated.models._models_py3.IndexingResult object at 0x0000028143DF2450>, <azure.search.documents._generated.models._models_py3.IndexingResult object at 0x0000028143DF2480>, <azure.search.documents._generated.models._models_py3.IndexingResult object at 0x0000028143DF24B0>, <azure.search.documents._generated.models._models_py3.IndexingResult object at 0x0000028143DF24E0>, <azure.search.documents._generated.models._models_py3.IndexingResult object at 0x0000028143DF2510>]\n"
     ]
    }
   ],
   "source": [
    "\n",
    "from azure.search.documents import SearchClient\n",
    "\n",
    "search_client = SearchClient(search_endpoint, index_name, AzureKeyCredential(admin_key))\n",
    "\n",
    "# Prepare documents for upload\n",
    "docs = []\n",
    "for _, row in df.iterrows():\n",
    "    doc = {\n",
    "        \"referenceNumber\": row[\"Reference Number\"] or f\"REF{_+1000}\",\n",
    "        \"firstName\": row[\"First Name\"],\n",
    "        \"lastName\": row[\"Last Name\"],\n",
    "        \"dateOfBirth\": row[\"Date of Birth\"],\n",
    "        \"companyName\": row[\"Company Name\"],\n",
    "        \"suffix\": row[\"Suffix\"],\n",
    "        \"jointAccountNames\": row[\"Joint Account Names\"],\n",
    "    }\n",
    "    docs.append(doc)\n",
    "\n",
    "# Upload documents\n",
    "batch_size = 1000\n",
    "for i in range(0, len(docs), batch_size):\n",
    "    batch = docs[i:i+batch_size]\n",
    "    result = search_client.upload_documents(documents=batch)\n",
    "    print(f\"Uploaded batch {i//batch_size + 1}: {result}\")\n"
   ]
  },
  {
   "cell_type": "markdown",
   "id": "936f42fa",
   "metadata": {},
   "source": [
    "## Normalized Score Calculation Summary\n",
    "\n",
    "### Formula\n",
    "```python\n",
    "normalized_score = (raw_score / max_score) * 100\n",
    "\n",
    "How It Works\n",
    "Collect all results from Azure Search query\n",
    "Find max score: Identify the highest raw BM25 score in the result set\n",
    "Calculate for each result: Divide each raw score by max score, multiply by 100\n",
    "\n",
    "Example\n",
    "Query: \"Jean-Pierre Dubois\" returns:\n",
    "\n",
    "Result 1: Raw 6.8630 → Normalized 100.00/100 (6.8630/6.8630 × 100)\n",
    "Result 2: Raw 4.5650 → Normalized 66.52/100 (4.5650/6.8630 × 100)\n",
    "Result 3: Raw 3.0000 → Normalized 43.71/100 (3.0000/6.8630 × 100)\n",
    "\n",
    "Why Normalize?\n",
    "Intuitive: 0-100 scale is easy to understand (100 = best match in this result set)\n",
    "Consistent: Raw BM25 scores vary by query; normalized scores are always 0-100\n",
    "Relative: Shows how much better one result is vs. others (90 vs 45 = 2x better)\n",
    "User-friendly: Business users can interpret scores without understanding BM25\n",
    "\n",
    "Key Points\n",
    "⚠️ Scores are relative to current query results only - not comparable across different queries\n",
    "\n",
    "⚠️ 100/100 means \"best in this set\", not \"perfect match universally\"\n",
    "\n",
    "✅ We display both: Normalized (user-friendly) + Raw (technical validation)"
   ]
  },
  {
   "cell_type": "code",
   "execution_count": 7,
   "id": "83318a62",
   "metadata": {},
   "outputs": [],
   "source": [
    "\n",
    "def run_query(scenario_id, scenario_name, query, expected_score_range=\"\", top=5, use_fuzzy=False):\n",
    "    \"\"\"\n",
    "    Run a search query and display results with scoring\n",
    "    \n",
    "    Args:\n",
    "        scenario_id: Scenario identifier (e.g., SV101)\n",
    "        scenario_name: Description of the scenario\n",
    "        query: Search query string\n",
    "        expected_score_range: Expected score range for validation\n",
    "        top: Number of results to return\n",
    "        use_fuzzy: Enable fuzzy search for typo tolerance\n",
    "    \"\"\"\n",
    "    print(f\"\\n{'='*80}\")\n",
    "    print(f\"Scenario: {scenario_id} - {scenario_name}\")\n",
    "    print(f\"Query: '{query}'\")\n",
    "    if expected_score_range:\n",
    "        print(f\"Expected Score Range: {expected_score_range}\")\n",
    "    if use_fuzzy:\n",
    "        print(f\"Fuzzy Search: Enabled\")\n",
    "    print(f\"{'-'*80}\")\n",
    "    \n",
    "    try:\n",
    "        # Build search query with fuzzy matching if enabled\n",
    "        if use_fuzzy:\n",
    "            # For date queries, extract individual components and search for them\n",
    "            # This allows partial matches on date components (year, month, day)\n",
    "            terms = query.replace('.', ' ').split()\n",
    "            # Search for each non-empty term individually\n",
    "            search_terms = [term for term in terms if term]\n",
    "            if search_terms:\n",
    "                search_query = ' OR '.join(search_terms)\n",
    "            else:\n",
    "                search_query = query\n",
    "        else:\n",
    "            search_query = query\n",
    "            \n",
    "        results = search_client.search(\n",
    "            search_text=search_query,\n",
    "            top=top,\n",
    "            include_total_count=True,\n",
    "            query_type='full'  # Enable full Lucene query syntax\n",
    "        )\n",
    "        \n",
    "        # Collect all results first to find max score\n",
    "        results_list = list(results)\n",
    "        \n",
    "        if not results_list:\n",
    "            print(\"No results found.\")\n",
    "            return\n",
    "        \n",
    "        # Find max score for normalization\n",
    "        max_score = max(result.get('@search.score', 0) for result in results_list)\n",
    "        \n",
    "        result_count = 0\n",
    "        for result in results_list:\n",
    "            result_count += 1\n",
    "            raw_score = result.get('@search.score', 0)\n",
    "            \n",
    "            # Normalize score to 0-100 range\n",
    "            normalized_score = (raw_score / max_score * 100) if max_score > 0 else 0\n",
    "            \n",
    "            ref = result.get('referenceNumber', 'N/A')\n",
    "            first = result.get('firstName', '')\n",
    "            last = result.get('lastName', '')\n",
    "            dob = result.get('dateOfBirth', '')\n",
    "            company = result.get('companyName', '')\n",
    "            suffix = result.get('suffix', '')\n",
    "            joint = result.get('jointAccountNames', '')\n",
    "            \n",
    "            print(f\"\\nResult {result_count}:\")\n",
    "            print(f\"  Normalized Score: {normalized_score:.2f}/100\")\n",
    "            print(f\"  Raw Score: {raw_score:.4f}\")\n",
    "            print(f\"  Reference: {ref}\")\n",
    "            if first or last:\n",
    "                print(f\"  Name: {first} {last}\".strip())\n",
    "            if dob:\n",
    "                print(f\"  DOB: {dob}\")\n",
    "            if company:\n",
    "                print(f\"  Company: {company} {suffix}\".strip())\n",
    "            if joint:\n",
    "                print(f\"  Joint Account: {joint}\")\n",
    "        \n",
    "        print(f\"\\n{'-'*80}\")\n",
    "        print(f\"Total results returned: {result_count}\")\n",
    "        print(f\"Max raw score: {max_score:.4f}\")\n",
    "            \n",
    "    except Exception as e:\n",
    "        print(f\"Error executing query: {e}\")\n"
   ]
  },
  {
   "cell_type": "code",
   "execution_count": 8,
   "id": "1ac44028",
   "metadata": {},
   "outputs": [
    {
     "name": "stdout",
     "output_type": "stream",
     "text": [
      "\n",
      "================================================================================\n",
      "Scenario: SV101 - Exact Match\n",
      "Query: 'John Smith'\n",
      "Expected Score Range: 100\n",
      "--------------------------------------------------------------------------------\n",
      "\n",
      "Result 1:\n",
      "  Normalized Score: 100.00/100\n",
      "  Raw Score: 1.7261\n",
      "  Reference: REF001\n",
      "Name: John Smith\n",
      "  DOB: 15.06.1985\n",
      "\n",
      "Result 2:\n",
      "  Normalized Score: 94.00/100\n",
      "  Raw Score: 1.6225\n",
      "  Reference: REF002\n",
      "Name: John Michael David Smith\n",
      "  DOB: 22.09.1978\n",
      "\n",
      "--------------------------------------------------------------------------------\n",
      "Total results returned: 2\n",
      "Max raw score: 1.7261\n"
     ]
    }
   ],
   "source": [
    "# SV101: Exact Match\n",
    "run_query(\"SV101\", \"Exact Match\", \"John Smith\", \"100\")"
   ]
  },
  {
   "cell_type": "code",
   "execution_count": 9,
   "id": "1b10e673",
   "metadata": {},
   "outputs": [
    {
     "name": "stdout",
     "output_type": "stream",
     "text": [
      "\n",
      "================================================================================\n",
      "Scenario: SV102 - Minor Variation in First Name\n",
      "Query: 'Jon Smith'\n",
      "Expected Score Range: 95-100\n",
      "--------------------------------------------------------------------------------\n",
      "\n",
      "Result 1:\n",
      "  Normalized Score: 100.00/100\n",
      "  Raw Score: 0.8630\n",
      "  Reference: REF002\n",
      "Name: John Michael David Smith\n",
      "  DOB: 22.09.1978\n",
      "\n",
      "Result 2:\n",
      "  Normalized Score: 100.00/100\n",
      "  Raw Score: 0.8630\n",
      "  Reference: REF001\n",
      "Name: John Smith\n",
      "  DOB: 15.06.1985\n",
      "\n",
      "--------------------------------------------------------------------------------\n",
      "Total results returned: 2\n",
      "Max raw score: 0.8630\n"
     ]
    }
   ],
   "source": [
    "# SV102: Minor Variation in First Name\n",
    "run_query(\"SV102\", \"Minor Variation in First Name\", \"Jon Smith\", \"95-100\")"
   ]
  },
  {
   "cell_type": "code",
   "execution_count": 10,
   "id": "366fab5e",
   "metadata": {},
   "outputs": [
    {
     "name": "stdout",
     "output_type": "stream",
     "text": [
      "\n",
      "================================================================================\n",
      "Scenario: SV103 - Minor Typo in Last Name\n",
      "Query: 'John Smit'\n",
      "Expected Score Range: 85-90\n",
      "--------------------------------------------------------------------------------\n",
      "\n",
      "Result 1:\n",
      "  Normalized Score: 100.00/100\n",
      "  Raw Score: 0.8630\n",
      "  Reference: REF001\n",
      "Name: John Smith\n",
      "  DOB: 15.06.1985\n",
      "\n",
      "Result 2:\n",
      "  Normalized Score: 88.00/100\n",
      "  Raw Score: 0.7595\n",
      "  Reference: REF002\n",
      "Name: John Michael David Smith\n",
      "  DOB: 22.09.1978\n",
      "\n",
      "--------------------------------------------------------------------------------\n",
      "Total results returned: 2\n",
      "Max raw score: 0.8630\n"
     ]
    }
   ],
   "source": [
    "# SV103: Minor Typo in Last Name\n",
    "run_query(\"SV103\", \"Minor Typo in Last Name\", \"John Smit\", \"85-90\")"
   ]
  },
  {
   "cell_type": "code",
   "execution_count": null,
   "id": "eaa83889",
   "metadata": {},
   "outputs": [],
   "source": [
    "# SV104: Transposed First and Last Name\n",
    "run_query(\"SV104\", \"Transposed First and Last Name\", \"Smith John\", \"95-100\")"
   ]
  },
  {
   "cell_type": "code",
   "execution_count": null,
   "id": "67a293df",
   "metadata": {},
   "outputs": [],
   "source": [
    "# SV105: Missing Last Name\n",
    "run_query(\"SV105\", \"Missing Last Name\", \"John Michael David\", \"60-70\")"
   ]
  },
  {
   "cell_type": "code",
   "execution_count": null,
   "id": "7524069b",
   "metadata": {},
   "outputs": [],
   "source": [
    "# SV106.A: Complex Name - Partial Match (Missing One Name)\n",
    "run_query(\"SV106.A\", \"Complex Name: Missing One Name\", \"John David\", \"60-70\")"
   ]
  },
  {
   "cell_type": "code",
   "execution_count": 11,
   "id": "3ff64688",
   "metadata": {},
   "outputs": [
    {
     "name": "stdout",
     "output_type": "stream",
     "text": [
      "\n",
      "================================================================================\n",
      "Scenario: SV106.B - Complex Name: Missing Two Names\n",
      "Query: 'David'\n",
      "Expected Score Range: 60-70\n",
      "--------------------------------------------------------------------------------\n",
      "\n",
      "Result 1:\n",
      "  Normalized Score: 100.00/100\n",
      "  Raw Score: 0.7595\n",
      "  Reference: REF002\n",
      "Name: John Michael David Smith\n",
      "  DOB: 22.09.1978\n",
      "\n",
      "--------------------------------------------------------------------------------\n",
      "Total results returned: 1\n",
      "Max raw score: 0.7595\n"
     ]
    }
   ],
   "source": [
    "# SV106.B: Complex Name - Partial Match (Missing Two Names)\n",
    "run_query(\"SV106.B\", \"Complex Name: Missing Two Names\", \"David\", \"60-70\")"
   ]
  },
  {
   "cell_type": "code",
   "execution_count": null,
   "id": "aef2f999",
   "metadata": {},
   "outputs": [],
   "source": [
    "# SV106: Missing First Name\n",
    "run_query(\"SV106\", \"Missing First Name\", \"Smith\", \"60-70\")"
   ]
  },
  {
   "cell_type": "markdown",
   "id": "ee58b73e",
   "metadata": {},
   "source": []
  },
  {
   "cell_type": "code",
   "execution_count": 12,
   "id": "75593723",
   "metadata": {},
   "outputs": [
    {
     "name": "stdout",
     "output_type": "stream",
     "text": [
      "\n",
      "================================================================================\n",
      "Scenario: SV107 - Transposed Date Elements\n",
      "Query: 'John Smith 06.15.1985'\n",
      "Expected Score Range: 85-90\n",
      "Fuzzy Search: Enabled\n",
      "--------------------------------------------------------------------------------\n",
      "\n",
      "Result 1:\n",
      "  Normalized Score: 100.00/100\n",
      "  Raw Score: 1.7261\n",
      "  Reference: REF001\n",
      "Name: John Smith\n",
      "  DOB: 15.06.1985\n",
      "\n",
      "Result 2:\n",
      "  Normalized Score: 94.00/100\n",
      "  Raw Score: 1.6225\n",
      "  Reference: REF002\n",
      "Name: John Michael David Smith\n",
      "  DOB: 22.09.1978\n",
      "\n",
      "--------------------------------------------------------------------------------\n",
      "Total results returned: 2\n",
      "Max raw score: 1.7261\n"
     ]
    }
   ],
   "source": [
    "# SV107: Transposed Date Elements\n",
    "# Search combines name + transposed date format to demonstrate multi-field matching\n",
    "run_query(\"SV107\", \"Transposed Date Elements\", \"John Smith 06.15.1985\", \"85-90\", use_fuzzy=True)"
   ]
  },
  {
   "cell_type": "markdown",
   "id": "777453c8",
   "metadata": {},
   "source": []
  },
  {
   "cell_type": "code",
   "execution_count": null,
   "id": "3802c203",
   "metadata": {},
   "outputs": [],
   "source": [
    "# SV108: Lowercase Name\n",
    "run_query(\"SV108\", \"Lowercase Name\", \"john smith\", \"100\")"
   ]
  },
  {
   "cell_type": "code",
   "execution_count": null,
   "id": "dd47ca07",
   "metadata": {},
   "outputs": [],
   "source": [
    "# SV109: Uppercase Name\n",
    "run_query(\"SV109\", \"Uppercase Name\", \"JOHN SMITH\", \"100\")"
   ]
  },
  {
   "cell_type": "code",
   "execution_count": 13,
   "id": "80fb035f",
   "metadata": {},
   "outputs": [
    {
     "name": "stdout",
     "output_type": "stream",
     "text": [
      "\n",
      "================================================================================\n",
      "Scenario: SV110 - Extra Punctuation\n",
      "Query: 'John.'\n",
      "Expected Score Range: 95-100\n",
      "--------------------------------------------------------------------------------\n",
      "\n",
      "Result 1:\n",
      "  Normalized Score: 100.00/100\n",
      "  Raw Score: 0.8630\n",
      "  Reference: REF001\n",
      "Name: John Smith\n",
      "  DOB: 15.06.1985\n",
      "\n",
      "Result 2:\n",
      "  Normalized Score: 88.00/100\n",
      "  Raw Score: 0.7595\n",
      "  Reference: REF002\n",
      "Name: John Michael David Smith\n",
      "  DOB: 22.09.1978\n",
      "\n",
      "--------------------------------------------------------------------------------\n",
      "Total results returned: 2\n",
      "Max raw score: 0.8630\n"
     ]
    }
   ],
   "source": [
    "# SV110: Extra Punctuation\n",
    "run_query(\"SV110\", \"Extra Punctuation\", \"John.\", \"95-100\")"
   ]
  },
  {
   "cell_type": "code",
   "execution_count": 14,
   "id": "e80d2d56",
   "metadata": {},
   "outputs": [
    {
     "name": "stdout",
     "output_type": "stream",
     "text": [
      "\n",
      "================================================================================\n",
      "Scenario: SV111.A - Abbreviated First Name\n",
      "Query: 'J. Smith'\n",
      "Expected Score Range: 85-90\n",
      "--------------------------------------------------------------------------------\n",
      "\n",
      "Result 1:\n",
      "  Normalized Score: 100.00/100\n",
      "  Raw Score: 0.8630\n",
      "  Reference: REF002\n",
      "Name: John Michael David Smith\n",
      "  DOB: 22.09.1978\n",
      "\n",
      "Result 2:\n",
      "  Normalized Score: 100.00/100\n",
      "  Raw Score: 0.8630\n",
      "  Reference: REF001\n",
      "Name: John Smith\n",
      "  DOB: 15.06.1985\n",
      "\n",
      "--------------------------------------------------------------------------------\n",
      "Total results returned: 2\n",
      "Max raw score: 0.8630\n"
     ]
    }
   ],
   "source": [
    "# SV111.A: Abbreviated First Name\n",
    "run_query(\"SV111.A\", \"Abbreviated First Name\", \"J. Smith\", \"85-90\")"
   ]
  },
  {
   "cell_type": "code",
   "execution_count": 15,
   "id": "73474639",
   "metadata": {},
   "outputs": [
    {
     "name": "stdout",
     "output_type": "stream",
     "text": [
      "\n",
      "================================================================================\n",
      "Scenario: SV111.B - First Name Abbreviation\n",
      "Query: 'J* P*'\n",
      "Expected Score Range: 85-90\n",
      "--------------------------------------------------------------------------------\n",
      "\n",
      "Result 1:\n",
      "  Normalized Score: 100.00/100\n",
      "  Raw Score: 6.0000\n",
      "  Reference: REF003\n",
      "Name: Jean-Pierre Dubois\n",
      "  DOB: 06.07.1990\n",
      "\n",
      "Result 2:\n",
      "  Normalized Score: 66.67/100\n",
      "  Raw Score: 4.0000\n",
      "  Reference: REF203\n",
      "  Joint Account: Jean-Pierre Dubois & Maria Schmidt\n",
      "\n",
      "Result 3:\n",
      "  Normalized Score: 50.00/100\n",
      "  Raw Score: 3.0000\n",
      "  Reference: REF002\n",
      "Name: John Michael David Smith\n",
      "  DOB: 22.09.1978\n",
      "\n",
      "Result 4:\n",
      "  Normalized Score: 50.00/100\n",
      "  Raw Score: 3.0000\n",
      "  Reference: REF007\n",
      "Name: Anna Johnson\n",
      "  DOB: 17.12.1992\n",
      "\n",
      "Result 5:\n",
      "  Normalized Score: 50.00/100\n",
      "  Raw Score: 3.0000\n",
      "  Reference: REF001\n",
      "Name: John Smith\n",
      "  DOB: 15.06.1985\n",
      "\n",
      "--------------------------------------------------------------------------------\n",
      "Total results returned: 5\n",
      "Max raw score: 6.0000\n"
     ]
    }
   ],
   "source": [
    "# SV111.B: First Name Abbreviation (Initials)\n",
    "# Searching for just initials with wildcards: J* P* to match Jean* Pierre*\n",
    "run_query(\"SV111.B\", \"First Name Abbreviation\", \"J* P*\", \"85-90\")"
   ]
  },
  {
   "cell_type": "code",
   "execution_count": null,
   "id": "e7a6f081",
   "metadata": {},
   "outputs": [],
   "source": [
    "# SV114: Missing Last Name\n",
    "run_query(\"SV114\", \"Missing Last Name\", \"John\", \"65-70\")"
   ]
  },
  {
   "cell_type": "code",
   "execution_count": null,
   "id": "8b4b6aea",
   "metadata": {},
   "outputs": [],
   "source": [
    "# SV115: Missing First Name\n",
    "run_query(\"SV115\", \"Missing First Name\", \"Smith\", \"65-70\")"
   ]
  },
  {
   "cell_type": "code",
   "execution_count": 16,
   "id": "881b7603",
   "metadata": {},
   "outputs": [
    {
     "name": "stdout",
     "output_type": "stream",
     "text": [
      "\n",
      "================================================================================\n",
      "Scenario: SV117 - Missing Date of Birth\n",
      "Query: 'John Smith'\n",
      "Expected Score Range: 70-75\n",
      "--------------------------------------------------------------------------------\n",
      "\n",
      "Result 1:\n",
      "  Normalized Score: 100.00/100\n",
      "  Raw Score: 1.7261\n",
      "  Reference: REF001\n",
      "Name: John Smith\n",
      "  DOB: 15.06.1985\n",
      "\n",
      "Result 2:\n",
      "  Normalized Score: 94.00/100\n",
      "  Raw Score: 1.6225\n",
      "  Reference: REF002\n",
      "Name: John Michael David Smith\n",
      "  DOB: 22.09.1978\n",
      "\n",
      "--------------------------------------------------------------------------------\n",
      "Total results returned: 2\n",
      "Max raw score: 1.7261\n"
     ]
    }
   ],
   "source": [
    "# SV117: Missing Date of Birth\n",
    "run_query(\"SV117\", \"Missing Date of Birth\", \"John Smith\", \"70-75\")"
   ]
  },
  {
   "cell_type": "markdown",
   "id": "3a674a35",
   "metadata": {},
   "source": [
    "The key insight: **Date-only searches need exact matching via filters, not text search.** \n",
    "e.g., \n",
    "# Use OData filter for exact date matching\n",
    "results = search_client.search(\n",
    "    search_text=\"*\",  # Match all\n",
    "    filter=\"dateOfBirth eq '15.06.1985'\",  # Exact date filter\n",
    "    top=5\n",
    ")\n",
    "Fuzzy text search on dates alone creates too much noise without a name to anchor the results."
   ]
  },
  {
   "cell_type": "code",
   "execution_count": 17,
   "id": "5318b030",
   "metadata": {},
   "outputs": [
    {
     "name": "stdout",
     "output_type": "stream",
     "text": [
      "\n",
      "================================================================================\n",
      "Scenario: SV118 - Partial Date (Missing Year)\n",
      "Query: 'John Smith 15.06.'\n",
      "Expected Score Range: 70-80\n",
      "Fuzzy Search: Enabled\n",
      "--------------------------------------------------------------------------------\n",
      "\n",
      "Result 1:\n",
      "  Normalized Score: 100.00/100\n",
      "  Raw Score: 1.7261\n",
      "  Reference: REF001\n",
      "Name: John Smith\n",
      "  DOB: 15.06.1985\n",
      "\n",
      "Result 2:\n",
      "  Normalized Score: 94.00/100\n",
      "  Raw Score: 1.6225\n",
      "  Reference: REF002\n",
      "Name: John Michael David Smith\n",
      "  DOB: 22.09.1978\n",
      "\n",
      "--------------------------------------------------------------------------------\n",
      "Total results returned: 2\n",
      "Max raw score: 1.7261\n"
     ]
    }
   ],
   "source": [
    "# SV118: Partial Date (Missing Year)\n",
    "# Search combines name + partial date (missing year) to find records\n",
    "run_query(\"SV118\", \"Partial Date (Missing Year)\", \"John Smith 15.06.\", \"70-80\", use_fuzzy=True)"
   ]
  },
  {
   "cell_type": "code",
   "execution_count": null,
   "id": "ef4367bf",
   "metadata": {},
   "outputs": [],
   "source": [
    "# SV119: Partial Date (Missing Day)\n",
    "# Search combines name + partial date (missing day) to find records\n",
    "run_query(\"SV119\", \"Partial Date (Missing Day)\", \"John Smith .06.1985\", \"75-80\", use_fuzzy=True)"
   ]
  },
  {
   "cell_type": "code",
   "execution_count": null,
   "id": "297e0833",
   "metadata": {},
   "outputs": [],
   "source": [
    "# SV120: Partial Date (Missing Month)\n",
    "# Search combines name + partial date (missing month) to find records\n",
    "run_query(\"SV120\", \"Partial Date (Missing Month)\", \"John Smith 15..1985\", \"75-80\", use_fuzzy=True)"
   ]
  },
  {
   "cell_type": "code",
   "execution_count": 20,
   "id": "d3f66289",
   "metadata": {},
   "outputs": [
    {
     "name": "stdout",
     "output_type": "stream",
     "text": [
      "\n",
      "================================================================================\n",
      "Scenario: SV121 - Typo + Missing Umlaut\n",
      "Query: 'Mueller~'\n",
      "Expected Score Range: 90-95\n",
      "--------------------------------------------------------------------------------\n",
      "\n",
      "Result 1:\n",
      "  Normalized Score: 100.00/100\n",
      "  Raw Score: 0.5754\n",
      "  Reference: REF004\n",
      "Name: Hans Müller\n",
      "  DOB: 12.03.1982\n",
      "\n",
      "Result 2:\n",
      "  Normalized Score: 66.67/100\n",
      "  Raw Score: 0.3836\n",
      "  Reference: REF204\n",
      "  Joint Account: Robert Williams & Hans Müller\n",
      "\n",
      "--------------------------------------------------------------------------------\n",
      "Total results returned: 2\n",
      "Max raw score: 0.5754\n"
     ]
    }
   ],
   "source": [
    "# SV121: Typo + Missing Umlaut\n",
    "# Using fuzzy search to match Muller with Müller (umlaut handling)\n",
    "run_query(\"SV121\", \"Typo + Missing Umlaut\", \"Mueller~\", \"90-95\")"
   ]
  },
  {
   "cell_type": "code",
   "execution_count": null,
   "id": "5e945e43",
   "metadata": {},
   "outputs": [],
   "source": [
    "# SV122: Company Record\n",
    "run_query(\"SV122\", \"Company Record\", \"TechCorp AG\", \"100\")"
   ]
  },
  {
   "cell_type": "code",
   "execution_count": null,
   "id": "0ee42373",
   "metadata": {},
   "outputs": [],
   "source": [
    "# SV123: Missing Suffix\n",
    "run_query(\"SV123\", \"Missing Suffix\", \"TechCorp\", \"100\")"
   ]
  },
  {
   "cell_type": "code",
   "execution_count": null,
   "id": "f6ff709d",
   "metadata": {},
   "outputs": [],
   "source": [
    "# SV124: Expanded Suffix\n",
    "run_query(\"SV124\", \"Expanded Suffix\", \"TechCorp Aktiengesellschaft\", \"100\")"
   ]
  },
  {
   "cell_type": "code",
   "execution_count": 21,
   "id": "e51a9162",
   "metadata": {},
   "outputs": [
    {
     "name": "stdout",
     "output_type": "stream",
     "text": [
      "\n",
      "================================================================================\n",
      "Scenario: SV125 - Abbreviated Suffix with Punctuation\n",
      "Query: 'TechCorp A.G.'\n",
      "Expected Score Range: 100\n",
      "--------------------------------------------------------------------------------\n",
      "\n",
      "Result 1:\n",
      "  Normalized Score: 100.00/100\n",
      "  Raw Score: 0.5754\n",
      "  Reference: REF101\n",
      "Company: TechCorp AG\n",
      "\n",
      "--------------------------------------------------------------------------------\n",
      "Total results returned: 1\n",
      "Max raw score: 0.5754\n"
     ]
    }
   ],
   "source": [
    "# SV125: Abbreviated Suffix with Punctuation\n",
    "run_query(\"SV125\", \"Abbreviated Suffix with Punctuation\", \"TechCorp A.G.\", \"100\")"
   ]
  },
  {
   "cell_type": "code",
   "execution_count": null,
   "id": "38ba51b2",
   "metadata": {},
   "outputs": [],
   "source": [
    "# SV126: Partnership Record\n",
    "run_query(\"SV126\", \"Partnership Record\", \"Marta Schwarz & Peter Meier\", \"100\")"
   ]
  },
  {
   "cell_type": "code",
   "execution_count": null,
   "id": "8fbdf149",
   "metadata": {},
   "outputs": [],
   "source": [
    "# SV127: Abbreviated Partnership Name\n",
    "run_query(\"SV127\", \"Abbreviated Partnership Name\", \"M Schwarz & P Meier\", \"85-90\")"
   ]
  },
  {
   "cell_type": "code",
   "execution_count": null,
   "id": "17f7c2d3",
   "metadata": {},
   "outputs": [],
   "source": [
    "# SV128: Partial Partnership Name\n",
    "run_query(\"SV128\", \"Partial Partnership Name\", \"Marta Schwarz und Meier\", \"80-85\")"
   ]
  },
  {
   "cell_type": "code",
   "execution_count": null,
   "id": "ba6be97e",
   "metadata": {},
   "outputs": [],
   "source": [
    "# SV129: Joint Account Name Transposition\n",
    "run_query(\"SV129\", \"Joint Account Name Transposition\", \"Peter Meier und Marta Schwarz\", \"90-95\")"
   ]
  },
  {
   "cell_type": "code",
   "execution_count": null,
   "id": "a8d6f01e",
   "metadata": {},
   "outputs": [],
   "source": [
    "# SV130: Name Appears in Joint Account\n",
    "run_query(\"SV130\", \"Name Appears in Joint Account\", \"Peter Meier\", \"75-80\")"
   ]
  }
 ],
 "metadata": {
  "kernelspec": {
   "display_name": "bubblingvenv (3.12.10)",
   "language": "python",
   "name": "python3"
  },
  "language_info": {
   "codemirror_mode": {
    "name": "ipython",
    "version": 3
   },
   "file_extension": ".py",
   "mimetype": "text/x-python",
   "name": "python",
   "nbconvert_exporter": "python",
   "pygments_lexer": "ipython3",
   "version": "3.12.10"
  }
 },
 "nbformat": 4,
 "nbformat_minor": 5
}
